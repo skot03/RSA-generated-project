{
 "cells": [
  {
   "cell_type": "markdown",
   "metadata": {},
   "source": [
    "# Zadanie RSA - wersja podstawowa\n",
    "\n",
    "# Proszę uzupełnić:\n",
    "\n",
    "## Nazwisko:Skotnicki\n",
    "\n",
    "## Imię: Paweł\n",
    "\n",
    "## Nr Albumu:146999\n",
    "\n",
    "## Proszę Uzupełnić powyżej dane osobowe!\n",
    "\n",
    "## Uwaga:\n",
    "\n",
    "Na delcie należy umieścić notatnik zapisany w trzech formatach `ipynb` oraz `html` oraz `pdf`, pliki muszą mieć nazwy:\n",
    "\n",
    "### `Nazwisko_Imie_nrAlbumu.*`\n",
    "\n",
    "\n",
    "\n",
    "## Temat\n",
    "\n",
    "\n",
    "Niech $x_0\\dots x_7$ będzie dowolną permutacją ciągu cyfr daty urodzenia oaoby rozwiązującej zadanie, w której $x_0 \\not= 0$ i $x_4 \\not= 0.$\n",
    "\n",
    "$p$ jest trzecią liczbą pierwszą następującą po liczbie $x_0 x_1 x_2 x_3$ a $q$ jest piątą  liczbą pierwszą następującą po liczbie $x_4x_5x_6x_7$\n",
    "\n",
    "**Uwaga:** Jeżeli $p=q$ to zmienić permutację cyfr $x_i$ lub wybrać kolejne liczby pierwsze np. 4 i 6 tak aby $p \\not= q$\n",
    "\n",
    "$$n=p\\cdot q$$\n",
    "\n",
    " - Wyznacz wszystkie pary liczb, które mogą być kluczami dla RSA\n",
    " - Wyznacz liczbę par kluczy takich że $e=d \\quad \\mod \\Phi(n)$\n",
    " - Wybierz dowolną parę kluczy $e$ i $d$ takich, że $e \\not =d \\quad \\mod \\Phi(n)$ \n",
    " - Niech $m = $ `randint(10^3, min(10^10,n))`, wykorzystując wybrane w poprzednim punkcie klucze zaszyfruj $m,$ sprawdź czy deszyfrowanie daje poprawny wynik i podpisz cyfrowo $m$ (wykorzystując algorytm podpisu RSA)\n",
    " - Sprawdź ile jest w pierścieniu $\\mathbb{Z}_{\\Phi(n)}$ elementów odwracalnych $e,$ takich, że $e = d \\mod \\Phi(n)$\n",
    " - Zbadaj czas potrzebny na faktoryzację $n$ przy założeniu, że znana jest wartość $\\Phi(n)$ **Uwaga: należy wyznaczać rozkład $n$ bez wykorzystywania funkcji `factor` itp... ! W tym przypadku rząd wielości $n$ jest na tyle mały, że funkcja `factor` prawdopodobnie wyznaczy rozkład $n$ Należy podać metodę faktoryzacji wykorzystującą wartość $\\Phi(n)$**\n",
    " - Notatnik należy przygotować tak aby były zachowane dane losowe, dla których zostały wykonane obliczenia i była możliwość ponownego przeliczenia rozwiązań dla tych wartości oraz aby było możliwe wygenerowanie nowych liczb spełniających warunki z tematu i wyznaczenie rozwiązań. Całośc powinna zwracać poprawne wyniki po wybraniu opcji jupytera Cell Run All\n",
    " \n",
    " \n",
    " # Rozwiązanie\n"
   ]
  },
  {
   "cell_type": "code",
   "execution_count": 51,
   "metadata": {},
   "outputs": [
    {
     "name": "stdout",
     "output_type": "stream",
     "text": [
      "Wylosowana permutacja na podstawie daty urodzenia jest następująca: [2, 0, 1, 9, 3, 1, 0, 1]\n"
     ]
    }
   ],
   "source": [
    "import random\n",
    "\n",
    "data = [1, 9, 1, 1, 2, 0, 0, 3]\n",
    "\n",
    "while True:\n",
    "    permutation = random.sample(data, len(data))\n",
    "    if permutation[0] != 0 and permutation[4] != 0:\n",
    "        break\n",
    "\n",
    "print(\"Wylosowana permutacja na podstawie daty urodzenia jest następująca:\", permutation)"
   ]
  },
  {
   "cell_type": "code",
   "execution_count": 52,
   "metadata": {},
   "outputs": [
    {
     "name": "stdout",
     "output_type": "stream",
     "text": [
      "Wygenerowano p \n",
      "p = 2039\n",
      "q = 3163\n",
      "n = 6449357\n",
      "phi = 6444156\n"
     ]
    }
   ],
   "source": [
    "\n",
    "p = 0\n",
    "q = 0\n",
    "iterations = 0\n",
    "p = int(''.join(map(str, permutation[:4])))\n",
    "q = int(''.join(map(str, permutation[4:])))\n",
    "   \n",
    "    \n",
    "    \n",
    "for i in range(3):\n",
    "    p = next_prime(p)\n",
    "\n",
    "for i in range(5):\n",
    "    q= next_prime(q)\n",
    "\n",
    "if p == q:\n",
    "    p = next_prime(p)\n",
    "\n",
    "print(\"Wygenerowano p \")\n",
    "print(\"p =\", p)\n",
    "print(\"q =\", q)\n",
    "\n",
    "n = p * q\n",
    "phi = (p - 1) * (q - 1)\n",
    "\n",
    "print(\"n =\", n)\n",
    "print(\"phi =\", phi)"
   ]
  },
  {
   "cell_type": "code",
   "execution_count": 53,
   "metadata": {},
   "outputs": [
    {
     "name": "stdout",
     "output_type": "stream",
     "text": [
      "Mozna wygenerowac ogolnie kluczy  1954560\n",
      "Natomiast e = d w liczbie przypadko: 32\n",
      "Wiec liczba poprawnych kluczy wynosi: 1954528\n",
      "e: 22927\n",
      "d: 1629379\n",
      "m: 3423120 m po zaszyfrowaniu: 4451459 m po odszyfrowaniu: 3423120\n",
      "Porownanie wiadomosci przed zaszyfrowaniem i po zaszyfrowaniu w celu sprawdzenia poprawnosci wyniku?: True\n"
     ]
    }
   ],
   "source": [
    "pary_ed = []\n",
    "e_ogolnie = 0\n",
    "przypadki_rowne = 0\n",
    "        \n",
    "e = 1\n",
    "while e < phi:\n",
    "    if gcd(e, phi) == 1:\n",
    "        e_ogolnie += 1\n",
    "        wynikowa = xgcd(e, phi)\n",
    "        d = Integer(mod(wynikowa[1], phi))\n",
    "        if e % phi == d:\n",
    "            przypadki_rowne += 1\n",
    "        else:\n",
    "            pary_ed.append((e, d))\n",
    "    e += 2\n",
    "\n",
    "\n",
    "print(\"Mozna wygenerowac ogolnie kluczy \",e_ogolnie)\n",
    "print(\"Natomiast e = d w liczbie przypadko:\",przypadki_rowne, )\n",
    "print(\"Wiec liczba poprawnych kluczy wynosi:\",e_ogolnie - przypadki_rowne)\n",
    "pary_ed[:20]\n",
    "import random\n",
    "\n",
    "klucz = random.choice(pary_ed)\n",
    "e = klucz[0]\n",
    "d = klucz[1]\n",
    "\n",
    "print(\"e:\", e)\n",
    "print(\"d:\", d)\n",
    "m=randint(10 ** 3, min(10 ** 10,n))\n",
    "\n",
    "c = pow(m, e, n)\n",
    "m_drugie=pow(c, d ,n)\n",
    "\n",
    "\n",
    "print(\"m:\",m,\"m po zaszyfrowaniu:\",c ,\"m po odszyfrowaniu:\",m_drugie)\n",
    "\n",
    "print(\"Porownanie wiadomosci przed zaszyfrowaniem i po zaszyfrowaniu w celu sprawdzenia poprawnosci wyniku?:\",m==m_drugie)"
   ]
  },
  {
   "cell_type": "code",
   "execution_count": 54,
   "metadata": {},
   "outputs": [
    {
     "data": {
      "text/plain": [
       "[(5, 5155325),\n",
       " (7, 3682375),\n",
       " (11, 4686659),\n",
       " (13, 1487113),\n",
       " (19, 3052495),\n",
       " (23, 2801807),\n",
       " (25, 1031065),\n",
       " (29, 3999821),\n",
       " (35, 736475),\n",
       " (37, 5050825),\n",
       " (41, 2043269),\n",
       " (43, 4795651),\n",
       " (47, 5073059),\n",
       " (49, 2367241),\n",
       " (53, 2431757),\n",
       " (55, 2226163),\n",
       " (59, 109223),\n",
       " (61, 5387737),\n",
       " (65, 2875085),\n",
       " (67, 2885443)]"
      ]
     },
     "execution_count": 54,
     "metadata": {},
     "output_type": "execute_result"
    }
   ],
   "source": [
    "\n",
    "\n",
    "pary_ed[:20]\n"
   ]
  },
  {
   "cell_type": "code",
   "execution_count": 55,
   "metadata": {},
   "outputs": [
    {
     "name": "stdout",
     "output_type": "stream",
     "text": [
      "CPU times: user 0 ns, sys: 0 ns, total: 0 ns\n",
      "Wall time: 711 µs\n"
     ]
    },
    {
     "data": {
      "text/plain": [
       "[(3163, 1), (2039, 1)]"
      ]
     },
     "execution_count": 55,
     "metadata": {},
     "output_type": "execute_result"
    }
   ],
   "source": [
    "def factorize(n, phi):\n",
    "    x = PolynomialRing(RationalField(), 'x').gen()\n",
    "    f = x^2 - (n + 1 - phi) * x + n\n",
    "    return f.roots()\n",
    "\n",
    "%time factorize(n,phi)"
   ]
  },
  {
   "cell_type": "markdown",
   "metadata": {},
   "source": [
    "## Program pozwalający wygenerować nowe dane spełniające założenia z tematu i wyznaczenie odpowiedzi"
   ]
  },
  {
   "cell_type": "code",
   "execution_count": 56,
   "metadata": {},
   "outputs": [
    {
     "name": "stdout",
     "output_type": "stream",
     "text": [
      "Wylosowana permutacja na podstawie daty urodzenia jest następująca: [2, 0, 1, 9, 3, 1, 0, 1]\n",
      "Wygenerowano p i q \n",
      "p = 2039\n",
      "q = 3163\n",
      "n = 6449357\n",
      "phi = 6444156\n",
      "Mozna wygenerowac ogolnie kluczy  1954560\n",
      "Natomiast e = d w liczbie przypadko: 32\n",
      "Wiec liczba poprawnych kluczy wynosi: 1954528\n",
      "e: 22927\n",
      "d: 1629379\n",
      "m: 3423120 m po zaszyfrowaniu: 4451459 m po odszyfrowaniu: 3423120\n",
      "Porownanie wiadomosci przed zaszyfrowaniem i po zaszyfrowaniu w celu sprawdzenia poprawnosci wyniku?: True\n"
     ]
    }
   ],
   "source": [
    "print(\"Wylosowana permutacja na podstawie daty urodzenia jest następująca:\", permutation)\n",
    "print(\"Wygenerowano p i q \")\n",
    "print(\"p =\", p)\n",
    "print(\"q =\", q)\n",
    "print(\"n =\", n)\n",
    "print(\"phi =\", phi)\n",
    "print(\"Mozna wygenerowac ogolnie kluczy \",e_ogolnie)\n",
    "print(\"Natomiast e = d w liczbie przypadko:\",przypadki_rowne, )\n",
    "print(\"Wiec liczba poprawnych kluczy wynosi:\",e_ogolnie - przypadki_rowne)\n",
    "print(\"e:\", e)\n",
    "print(\"d:\", d)\n",
    "print(\"m:\",m,\"m po zaszyfrowaniu:\",c ,\"m po odszyfrowaniu:\",m_drugie)\n",
    "\n",
    "print(\"Porownanie wiadomosci przed zaszyfrowaniem i po zaszyfrowaniu w celu sprawdzenia poprawnosci wyniku?:\",m==m_drugie)"
   ]
  },
  {
   "cell_type": "markdown",
   "metadata": {},
   "source": [
    "## Obliczenia dla wartości losowych wygenerowanych podczas pzygotowania rozwiązań\n",
    "\n",
    "(Należy zapisać otrzymane dane)"
   ]
  },
  {
   "cell_type": "code",
   "execution_count": 57,
   "metadata": {},
   "outputs": [
    {
     "name": "stdout",
     "output_type": "stream",
     "text": [
      "e: 191563\n",
      "d: 3725011\n",
      "m: 1939303 m po zaszyfrowaniu: 5036516 m po odszyfrowaniu: 1939303\n",
      "Porownanie wiadomosci przed zaszyfrowaniem i po zaszyfrowaniu w celu sprawdzenia poprawnosci wyniku?: True\n",
      "CPU times: user 0 ns, sys: 0 ns, total: 0 ns\n",
      "Wall time: 932 µs\n"
     ]
    },
    {
     "data": {
      "text/plain": [
       "[(3163, 1), (2039, 1)]"
      ]
     },
     "execution_count": 57,
     "metadata": {},
     "output_type": "execute_result"
    }
   ],
   "source": [
    "import random\n",
    "\n",
    "klucz = random.choice(pary_ed)\n",
    "e = klucz[0]\n",
    "d = klucz[1]\n",
    "\n",
    "print(\"e:\", e)\n",
    "print(\"d:\", d)\n",
    "m=randint(10 ** 3, min(10 ** 10,n))\n",
    "\n",
    "c = pow(m, e, n)\n",
    "m_drugie=pow(c, d ,n)\n",
    "\n",
    "\n",
    "print(\"m:\",m,\"m po zaszyfrowaniu:\",c ,\"m po odszyfrowaniu:\",m_drugie)\n",
    "\n",
    "print(\"Porownanie wiadomosci przed zaszyfrowaniem i po zaszyfrowaniu w celu sprawdzenia poprawnosci wyniku?:\",m==m_drugie)\n",
    "def factorize(n, phi):\n",
    "    x = PolynomialRing(RationalField(), 'x').gen()\n",
    "    f = x^2 - (n + 1 - phi) * x + n\n",
    "    return f.roots()\n",
    "\n",
    "%time factorize(n,phi)"
   ]
  },
  {
   "cell_type": "code",
   "execution_count": null,
   "metadata": {},
   "outputs": [],
   "source": []
  }
 ],
 "metadata": {
  "kernelspec": {
   "display_name": "SageMath 9.3",
   "language": "sage",
   "name": "sagemath"
  },
  "language_info": {
   "codemirror_mode": {
    "name": "ipython",
    "version": 3
   },
   "file_extension": ".py",
   "mimetype": "text/x-python",
   "name": "python",
   "nbconvert_exporter": "python",
   "pygments_lexer": "ipython3",
   "version": "3.7.10"
  }
 },
 "nbformat": 4,
 "nbformat_minor": 4
}
